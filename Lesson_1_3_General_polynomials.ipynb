{
 "cells": [
  {
   "cell_type": "code",
   "execution_count": 237,
   "metadata": {},
   "outputs": [
    {
     "data": {
      "text/html": [
       "<script>jQuery(function() {if (jQuery(\"body.notebook_app\").length == 0) { jQuery(\".input_area\").toggle(); jQuery(\".prompt\").toggle();}});</script>"
      ]
     },
     "metadata": {},
     "output_type": "display_data"
    },
    {
     "data": {
      "text/html": [
       "<button onclick=\"jQuery('.input_area').toggle(); jQuery('.prompt').toggle();\">Toggle code</button>"
      ]
     },
     "metadata": {},
     "output_type": "display_data"
    },
    {
     "data": {
      "application/vnd.jupyter.widget-view+json": {
       "model_id": "17e7e1d7c65f4ec397ea58e0c8e1d70c",
       "version_major": 2,
       "version_minor": 0
      },
      "text/plain": [
       "VBox(children=(HTMLMath(value='(1) Treating \\\\(\\\\left[ y, \\\\  z\\\\right] \\\\) as the varibles in the expression,…"
      ]
     },
     "metadata": {},
     "output_type": "display_data"
    }
   ],
   "source": [
    "# Thanks to user394430 on StackOverflow for this!\n",
    "from IPython.display import display\n",
    "from IPython.display import HTML\n",
    "import IPython.core.display as di # Example: di.display_html('<h3>%s:</h3>' % str, raw=True)\n",
    "\n",
    "# This line will hide code by default when the notebook is exported as HTML\n",
    "di.display_html('<script>jQuery(function() {if (jQuery(\"body.notebook_app\").length == 0) { jQuery(\".input_area\").toggle(); jQuery(\".prompt\").toggle();}});</script>', raw=True)\n",
    "\n",
    "# This line will add a button to toggle visibility of code blocks, for use with the HTML export version\n",
    "di.display_html('''<button onclick=\"jQuery('.input_area').toggle(); jQuery('.prompt').toggle();\">Toggle code</button>''', raw=True)\n",
    "\n",
    "from ipywidgets import *\n",
    "from sympy import *\n",
    "init_printing()\n",
    "from sympy.abc import a, b, c, x, y, z\n",
    "from random import *\n",
    "import functools\n",
    "\n",
    "LoL = [a, b, c, x, y, z]\n",
    "\n",
    "degree = randint(2,4) # Randomly assign the degree of the simplified polynomial\n",
    "\n",
    "numvars = randint(1,2) # Randomly assign the number of variables to work with\n",
    "\n",
    "# Randomly choose between one or max elements of a list\n",
    "def choose (ListOfLetters, max):\n",
    "        picks = []\n",
    "        while len(picks)<1 or len(picks)>max:\n",
    "            picks = sample(range(0, len(ListOfLetters)), randint(1, len(ListOfLetters)))\n",
    "        return [ListOfLetters[p] for p in picks]\n",
    "   \n",
    "# Convert input expression to Latex code\n",
    "def tex(expression):\n",
    "    return latex(eval(str(expression)))\n",
    "\n",
    "# create a list of variables\n",
    "varlist = choose(LoL, numvars) # Choose variables\n",
    "check = 0\n",
    "if len(varlist) == 1:\n",
    "    check = check + 1\n",
    "    varlist = varlist + [1]\n",
    "    \n",
    "\n",
    "# create a list of constants\n",
    "coeffs = [x for x in range(-3,3)] if randint(1,3) in {1, 2} else [Rational(x, y) for x in {-4, -2, 0, 2, 4} for y in {-4, -2, 2, 4}] \n",
    "coefflist1 = [sample(coeffs, 2) for x in range(0,degree)]\n",
    "coefflist2 = [sample(coeffs, 2) for x in range(0,degree)]\n",
    "paramlist = choose(list(set(set(LoL).difference(set(varlist)))), randint(1, 2))\n",
    "if len(paramlist)==1:\n",
    "    paramlist = paramlist + [1]\n",
    "prodlist1 = [[(x*y) for (x, y) in zip(paramlist, coefflist1[k])] for k in range(len(coefflist1))]\n",
    "prodlist2 = [[(x*y) for (x, y) in zip(paramlist, coefflist2[k])] for k in range(len(coefflist2))]\n",
    "\n",
    "# Multiply the variables by the coeffients\n",
    "elements1 = [[(x*y) for (x, y) in zip(varlist, prodlist1[k])] for k in range(len(coefflist1))]\n",
    "elements2 = [[(x*y) for (x, y) in zip(varlist, prodlist2[k])] for k in range(len(coefflist2))]\n",
    "\n",
    "# Create linear factors\n",
    "factors1 = [x+y for (x, y) in elements1]\n",
    "factors2 = [x+y for (x, y) in elements2]\n",
    "term1 = expand(prod(factors1))\n",
    "term2 = expand(prod(factors2))\n",
    "\n",
    "# Produce the problem for display\n",
    "problem = tex(term1) + \" + \" + tex(term2) if LC(term2)>0 else tex(term1) + tex(term2)\n",
    "split_problem = problem.split(\" - \")\n",
    "catcher = 1\n",
    "while catcher !=-1:\n",
    "    shuffled = (\" - \").join(sample(split_problem, len(split_problem)))\n",
    "    catcher = shuffled.find(\"- -\")\n",
    "    \n",
    "problem = term1 + term2\n",
    "    \n",
    "# Obtain the degree and constant term of the expression\n",
    "from sympy import degree\n",
    "if check == 0: \n",
    "    v_part = Add(*[t for t in problem.args if t.has(varlist[0]) or t.has(varlist[1])]).factor(varlist[0], varlist[1])\n",
    "    deg = max([(degree(t, varlist[0])+ degree(t, varlist[1])) for t in expand(v_part).args])\n",
    "    c_part = Add(*[t for t in problem.args if not (t.has(varlist[0]) or t.has(varlist[1]))])\n",
    "else:\n",
    "    v_part = Add(*[t for t in problem.args if t.has(varlist[0])]).factor(varlist[0])\n",
    "    deg = max([degree(t, varlist[0]) for t in expand(v_part).args])\n",
    "    c_part = Add(*[t for t in problem.args if not (t.has(varlist[0]))])\n",
    "    \n",
    "\n",
    "solution = v_part + c_part\n",
    "\n",
    "# Create the problem \n",
    "if check == 0:\n",
    "    instructions = widgets.HTMLMath(\n",
    "    value= r\"(1) Treating \\(\" + tex(varlist) + \" \\) as the varibles in the expression,completely simplify:\"\n",
    "    )\n",
    "else:\n",
    "    instructions = widgets.HTMLMath(\n",
    "    value=r\"(1) Treating \\(\" + tex(varlist[0])+ \"\\) as the varible in the expression,completely simplify:\"\n",
    "    )\n",
    "question = widgets.HTMLMath(\n",
    "            value=r\"\\(\" + shuffled + \"\\)\"\n",
    ")\n",
    "answer = widgets.Text(\n",
    "       value='0',\n",
    "       placeholder=\"\",\n",
    "       description='Simplification', )\n",
    "instructions2 = widgets.HTML(\n",
    "    value=\"(2) State the degree and constant term:\"\n",
    ")\n",
    "degree = widgets.Text(\n",
    "       value='0',\n",
    "       placeholder=\"\",\n",
    "       description='Degree', )\n",
    "cst_term = widgets.Text(\n",
    "       value='0',\n",
    "       placeholder=\"\",\n",
    "       description='Constant Term', )\n",
    "button = widgets.Button(description='Check Answer')\n",
    "out = widgets.Output()\n",
    "def on_button_clicked(_):\n",
    "            with out:\n",
    "                out.clear_output()\n",
    "                if sympify(answer.value) - solution == 0 and sympify(degree.value) - deg == 0 and sympify(cst_term.value) - c_part == 0:\n",
    "                    print(\"Correct!\")\n",
    "                else:\n",
    "                    if sympify(answer.value) - solution == 0 or sympify(degree.value) - deg == 0 or sympify(cst_term.value) - c_part == 0:\n",
    "                        print(\"Only partially correct\")\n",
    "                    else: print(\"Incorrect\")\n",
    "                display(widgets.HTML(\n",
    "                    value=\"Given:\"\n",
    "                    ))\n",
    "                display(widgets.HTMLMath(\n",
    "                  value = r\"\\(\" + shuffled +\"\\)\"\n",
    "                    ))\n",
    "                display(widgets.HTML(\n",
    "                    value=\"Gather like terms, and simplify to obtain:\"\n",
    "                    ))\n",
    "                display(widgets.HTMLMath(\n",
    "                    value=r\"\\(\" + tex(expand(v_part)) + \"\\)\" + \"\\( + \" + tex(expand(c_part)) + \" \\)\"\n",
    "                    ))\n",
    "                if check == 1:\n",
    "                    display(widgets.HTMLMath(\n",
    "                      value = r\"THINK: As there is only one variable, the highest exponent of \\(\" + tex(varlist[0]) + \"\\) is the degree.\" \n",
    "                    ))\n",
    "                    display(widgets.HTMLMath(\n",
    "                      value = r\"WRITE: degree = \" + tex(deg) +\", by inspection.\"\n",
    "                    ))\n",
    "                    display(widgets.HTMLMath(\n",
    "                      value = r\"THINK: The constant term is the term not being multiplied by the variable \\(\" + tex(varlist[0]) + \"\\)\"\n",
    "                    ))\n",
    "                    display(widgets.HTMLMath(\n",
    "                      value = r\"WRITE: constant term = \\(\" + tex(c_part) + \"\\), by inspection.\"\n",
    "                    ))\n",
    "                else:\n",
    "                    display(widgets.HTMLMath(\n",
    "                      value = r\"THINK: The varibles in this expression are \\(\" + tex(varlist[0]) + \"\\) and \\(\" + tex(varlist[1]) + \"\\). The highest of their exponents independently, or their sum in a product, is the degree. \" \n",
    "                    ))\n",
    "                    display(widgets.HTMLMath(\n",
    "                      value = r\"WRITE: degree = \" + tex(deg) +\", by inspection.\"\n",
    "                    ))\n",
    "                    display(widgets.HTMLMath(\n",
    "                      value = r\"THINK: The constant term is the term not being multiplied by either variable \\(\" + tex(varlist[0]) + \"\\) or \\(\" + tex(varlist[1]) +\"\\).\"\n",
    "                    ))\n",
    "                    display(widgets.HTMLMath(\n",
    "                      value = r\"WRITE: constant term = \\(\" + tex(c_part) + \"\\), by inspection.\"\n",
    "                    ))\n",
    "button.on_click(on_button_clicked)\n",
    "widgets.VBox([instructions, question, answer, instructions2, degree, cst_term, button, out])"
   ]
  },
  {
   "cell_type": "code",
   "execution_count": 232,
   "metadata": {},
   "outputs": [
    {
     "data": {
      "image/png": "[encoded data removed]",
      "text/latex": [
       "$\\displaystyle 8 a^{2} y^{2} - 10 a y + 3$"
      ],
      "text/plain": [
       "   2  2             \n",
       "8⋅a ⋅y  - 10⋅a⋅y + 3"
      ]
     },
     "execution_count": 232,
     "metadata": {},
     "output_type": "execute_result"
    }
   ],
   "source": [
    "problem"
   ]
  },
  {
   "cell_type": "code",
   "execution_count": 233,
   "metadata": {},
   "outputs": [
    {
     "data": {
      "image/png": "[encoded data removed]",
      "text/latex": [
       "$\\displaystyle 4 a^{2} y^{2} - 8 a y + 3$"
      ],
      "text/plain": [
       "   2  2            \n",
       "4⋅a ⋅y  - 8⋅a⋅y + 3"
      ]
     },
     "execution_count": 233,
     "metadata": {},
     "output_type": "execute_result"
    }
   ],
   "source": [
    "term1"
   ]
  },
  {
   "cell_type": "code",
   "execution_count": 234,
   "metadata": {},
   "outputs": [
    {
     "data": {
      "image/png": "[encoded data removed]",
      "text/latex": [
       "$\\displaystyle 4 a^{2} y^{2} - 2 a y$"
      ],
      "text/plain": [
       "   2  2        \n",
       "4⋅a ⋅y  - 2⋅a⋅y"
      ]
     },
     "execution_count": 234,
     "metadata": {},
     "output_type": "execute_result"
    }
   ],
   "source": [
    "term2"
   ]
  },
  {
   "cell_type": "code",
   "execution_count": 239,
   "metadata": {},
   "outputs": [
    {
     "data": {
      "image/png": "[encoded data removed]",
      "text/latex": [
       "$\\displaystyle \\left[ a, \\  2 b\\right]$"
      ],
      "text/plain": [
       "[a, 2⋅b]"
      ]
     },
     "execution_count": 239,
     "metadata": {},
     "output_type": "execute_result"
    }
   ],
   "source": [
    "X = [a, 2 * b]\n",
    "[x for x in X]"
   ]
  },
  {
   "cell_type": "code",
   "execution_count": 241,
   "metadata": {},
   "outputs": [
    {
     "data": {
      "image/png": "[encoded data removed]",
      "text/latex": [
       "$\\displaystyle \\left[ - 3 a^{2}, \\  a b^{2}, \\  a c, \\  - 6 a b, \\  2 b^{3}, \\  2 b c\\right]$"
      ],
      "text/plain": [
       "⎡    2     2                  3       ⎤\n",
       "⎣-3⋅a , a⋅b , a⋅c, -6⋅a⋅b, 2⋅b , 2⋅b⋅c⎦"
      ]
     },
     "execution_count": 241,
     "metadata": {},
     "output_type": "execute_result"
    }
   ],
   "source": [
    "Y = [-3 * a, b**2, c]\n",
    "[x*y for x in X for y in Y]"
   ]
  },
  {
   "cell_type": "code",
   "execution_count": 249,
   "metadata": {},
   "outputs": [],
   "source": [
    "A=[x for x in range(1,21+1) if 21%x == 0] + [-x for x in range(1,21+1) if 21%x == 0]"
   ]
  },
  {
   "cell_type": "code",
   "execution_count": 256,
   "metadata": {},
   "outputs": [],
   "source": [
    "A2=[(x,-21/x) for x in A ]"
   ]
  },
  {
   "cell_type": "code",
   "execution_count": 253,
   "metadata": {},
   "outputs": [
    {
     "data": {
      "image/png": "[encoded data removed]",
      "text/latex": [
       "$\\displaystyle \\left[ \\left( 1, \\  2.0\\right), \\  \\left( 2, \\  1.0\\right), \\  \\left( -1, \\  -2.0\\right), \\  \\left( -2, \\  -1.0\\right)\\right]$"
      ],
      "text/plain": [
       "[(1, 2.0), (2, 1.0), (-1, -2.0), (-2, -1.0)]"
      ]
     },
     "execution_count": 253,
     "metadata": {},
     "output_type": "execute_result"
    }
   ],
   "source": [
    "B = [(x, 2/x) for x in range(1,2+1) if 2%x == 0] + [(-x, 2/-x) for x in range(1,2+1) if 2%x == 0]\n",
    "B"
   ]
  },
  {
   "cell_type": "code",
   "execution_count": 259,
   "metadata": {},
   "outputs": [
    {
     "ename": "TypeError",
     "evalue": "can't multiply sequence by non-int of type 'tuple'",
     "output_type": "error",
     "traceback": [
      "\u001b[0;31m---------------------------------------------------------------------------\u001b[0m",
      "\u001b[0;31mTypeError\u001b[0m                                 Traceback (most recent call last)",
      "\u001b[0;32m<ipython-input-259-527ed67c44ef>\u001b[0m in \u001b[0;36m<module>\u001b[0;34m\u001b[0m\n\u001b[0;32m----> 1\u001b[0;31m \u001b[0;34m[\u001b[0m\u001b[0;34m(\u001b[0m\u001b[0ma\u001b[0m\u001b[0;34m*\u001b[0m\u001b[0mb\u001b[0m\u001b[0;34m)\u001b[0m \u001b[0;32mfor\u001b[0m \u001b[0;34m(\u001b[0m\u001b[0ma\u001b[0m\u001b[0;34m,\u001b[0m\u001b[0mb\u001b[0m\u001b[0;34m)\u001b[0m \u001b[0;32min\u001b[0m \u001b[0mzip\u001b[0m\u001b[0;34m(\u001b[0m\u001b[0mA2\u001b[0m\u001b[0;34m,\u001b[0m \u001b[0mB\u001b[0m\u001b[0;34m)\u001b[0m \u001b[0;34m]\u001b[0m\u001b[0;34m\u001b[0m\u001b[0;34m\u001b[0m\u001b[0m\n\u001b[0m",
      "\u001b[0;32m<ipython-input-259-527ed67c44ef>\u001b[0m in \u001b[0;36m<listcomp>\u001b[0;34m(.0)\u001b[0m\n\u001b[0;32m----> 1\u001b[0;31m \u001b[0;34m[\u001b[0m\u001b[0;34m(\u001b[0m\u001b[0ma\u001b[0m\u001b[0;34m*\u001b[0m\u001b[0mb\u001b[0m\u001b[0;34m)\u001b[0m \u001b[0;32mfor\u001b[0m \u001b[0;34m(\u001b[0m\u001b[0ma\u001b[0m\u001b[0;34m,\u001b[0m\u001b[0mb\u001b[0m\u001b[0;34m)\u001b[0m \u001b[0;32min\u001b[0m \u001b[0mzip\u001b[0m\u001b[0;34m(\u001b[0m\u001b[0mA2\u001b[0m\u001b[0;34m,\u001b[0m \u001b[0mB\u001b[0m\u001b[0;34m)\u001b[0m \u001b[0;34m]\u001b[0m\u001b[0;34m\u001b[0m\u001b[0;34m\u001b[0m\u001b[0m\n\u001b[0m",
      "\u001b[0;31mTypeError\u001b[0m: can't multiply sequence by non-int of type 'tuple'"
     ]
    }
   ],
   "source": [
    "[(a*b) for (a,b) in zip(A2, B) ]"
   ]
  },
  {
   "cell_type": "code",
   "execution_count": 260,
   "metadata": {},
   "outputs": [
    {
     "data": {
      "image/png": "[encoded data removed]",
      "text/latex": [
       "$\\displaystyle 8.0$"
      ],
      "text/plain": [
       "8.0"
      ]
     },
     "execution_count": 260,
     "metadata": {},
     "output_type": "execute_result"
    }
   ],
   "source": [
    "48/6"
   ]
  },
  {
   "cell_type": "code",
   "execution_count": null,
   "metadata": {},
   "outputs": [],
   "source": []
  }
 ],
 "metadata": {
  "kernelspec": {
   "display_name": "Python 3",
   "language": "python",
   "name": "python3"
  },
  "language_info": {
   "codemirror_mode": {
    "name": "ipython",
    "version": 3
   },
   "file_extension": ".py",
   "mimetype": "text/x-python",
   "name": "python",
   "nbconvert_exporter": "python",
   "pygments_lexer": "ipython3",
   "version": "3.7.6"
  }
 },
 "nbformat": 4,
 "nbformat_minor": 4
}
