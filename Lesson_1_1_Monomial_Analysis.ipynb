{
 "cells": [
  {
   "cell_type": "code",
   "execution_count": 7,
   "metadata": {
    "jupyter": {
     "source_hidden": true
    },
    "scrolled": false
   },
   "outputs": [
    {
     "data": {
      "text/html": [
       "<script>jQuery(function() {if (jQuery(\"body.notebook_app\").length == 0) { jQuery(\".input_area\").toggle(); jQuery(\".prompt\").toggle();}});</script>"
      ]
     },
     "metadata": {},
     "output_type": "display_data"
    },
    {
     "data": {
      "text/html": [
       "<button onclick=\"jQuery('.input_area').toggle(); jQuery('.prompt').toggle();\">Toggle code</button>"
      ]
     },
     "metadata": {},
     "output_type": "display_data"
    },
    {
     "name": "stdout",
     "output_type": "stream",
     "text": [
      "1 for type 1, 2 for type 2, and 3 for random: 2\n"
     ]
    },
    {
     "data": {
      "application/vnd.jupyter.widget-view+json": {
       "model_id": "0f5db2ffda0e4eef84a9456e1c28d6d0",
       "version_major": 2,
       "version_minor": 0
      },
      "text/plain": [
       "VBox(children=(HTMLMath(value='Treating \\\\(\\\\left[ b\\\\right]\\\\) as the variable in the monomial \\\\(b^{4} c^{2}…"
      ]
     },
     "metadata": {},
     "output_type": "display_data"
    },
    {
     "data": {
      "application/vnd.jupyter.widget-view+json": {
       "model_id": "056da893b2914f17abc29e7ed89b2a53",
       "version_major": 2,
       "version_minor": 0
      },
      "text/plain": [
       "HTMLMath(value='The exponents of the terms in the variable: \\\\(\\\\left\\\\{ b^{4} : 4\\\\right\\\\}\\\\) sum to 4, whic…"
      ]
     },
     "metadata": {},
     "output_type": "display_data"
    }
   ],
   "source": [
    "# Thanks to user394430 on StackOverflow for this!\n",
    "from IPython.display import display\n",
    "from IPython.display import HTML\n",
    "import IPython.core.display as di # Example: di.display_html('<h3>%s:</h3>' % str, raw=True)\n",
    "\n",
    "# This line will hide code by default when the notebook is exported as HTML\n",
    "di.display_html('<script>jQuery(function() {if (jQuery(\"body.notebook_app\").length == 0) { jQuery(\".input_area\").toggle(); jQuery(\".prompt\").toggle();}});</script>', raw=True)\n",
    "\n",
    "# This line will add a button to toggle visibility of code blocks, for use with the HTML export version\n",
    "di.display_html('''<button onclick=\"jQuery('.input_area').toggle(); jQuery('.prompt').toggle();\">Toggle code</button>''', raw=True)\n",
    "\n",
    "from ipywidgets import *\n",
    "from sympy import *\n",
    "init_printing()\n",
    "from sympy.abc import a, b, c, x, y, z\n",
    "from random import *\n",
    "import functools\n",
    "import ipywidgets as widgets\n",
    "\n",
    "# Randomly choose between one or max elements of a list\n",
    "def choose (ListOfLetters, max):\n",
    "        picks = []\n",
    "        while len(picks)<1 or len(picks)>max:\n",
    "            picks = sample(range(0, len(ListOfLetters)), randint(1, len(ListOfLetters)))\n",
    "        return [ListOfLetters[p] for p in picks]\n",
    "    \n",
    "def assignExponents (ListOfLetters):\n",
    "    exponents = sample(range(1, 5), len(ListOfLetters))\n",
    "    return [l**e for (l, e) in zip(ListOfLetters, exponents)]\n",
    "\n",
    "# Convert input expression to Latex code\n",
    "def tex(expression):\n",
    "    return latex(eval(str(expression)))\n",
    "\n",
    "# Manipulate chosen objects for question creation \n",
    "def assemble(varlist, constant):\n",
    "    varlist = assignExponents(varlist)\n",
    "    var_deglist= {x:int(degree_list(x)[0]) for x in varlist}\n",
    "    degree = str(sum(var_deglist.values()))\n",
    "    variable = prod(varlist)\n",
    "    expr = constant * variable\n",
    "    return variable, expr, var_deglist, degree\n",
    "\n",
    "# Generate random question. When all_varibales = False, some of the letters are teated as constants \n",
    "def makeQuestion(ListOfLetters, all_variables = True):\n",
    "    if all_variables == True:\n",
    "        varlist = choose(ListOfLetters, 3)\n",
    "        coefflist=[Rational(x, y) for x in range(-3, 3) for y in range(-3, 3) if x != 0 if y != 0]\n",
    "        constant = coefflist[randint(0, len(coefflist)-1)]  \n",
    "        variable, expr, var_deglist, degree = assemble(varlist, constant)\n",
    "        question = widgets.HTMLMath(\n",
    "            value=r\"Determine the degree and coeffiecient of  \\(\" + tex(expr) + \"\\)\"\n",
    "            )\n",
    "        def on_button_clicked(_):\n",
    "      # \"linking function with output\"\n",
    "          with out:\n",
    "          # what happens when we press the button\n",
    "              out.clear_output()\n",
    "              print(\"Correct!\") if text1.value== degree and eval(text2.value) == constant else print(\"Incorrect\")\n",
    "              display(widgets.HTMLMath(\n",
    "          value = r\"The exponents of the terms are: \\(\" + tex(var_deglist) +\"\\), which sum to a degree of \"+ degree +\". The coefficient is the constant term \\(\" + tex(str(constant))+\"\\).\"\n",
    "))\n",
    "        # linking button and function together using a button's method\n",
    "    else: \n",
    "        varlist = choose (ListOfLetters, 2)\n",
    "        coefflist = choose(list(set(set(ListOfLetters).difference(set(varlist)))), randint(1, 2))\n",
    "        constant = prod(assignExponents(coefflist)) * Rational(randint(1, 6), randint(1, 6)) if randint(1,6) == 6 else prod(assignExponents(coefflist))\n",
    "        variable, expr, var_deglist, degree = assemble(varlist, constant)\n",
    "        question = widgets.HTMLMath(\n",
    "            value=r\"Treating \\(\" + tex(varlist) + \"\\) as the variable in the monomial \\(\" + tex(expr) + \"\\), determine the degree and coefficient.\"\n",
    "        )\n",
    "        def on_button_clicked(_):\n",
    "            with out:\n",
    "                out.clear_output()\n",
    "                print(\"Correct!\") if text1.value== degree and eval(text2.value) == constant else print(\"Incorrect\")\n",
    "            display(widgets.HTMLMath(\n",
    "                  value = r\"The exponents of the terms in the variable: \\(\" + tex(var_deglist) +\"\\) sum to \"+ degree +\", which is the degree. Treating all other objects as constants, the coefficient is \\(\" + tex(str(constant))+\"\\).\"\n",
    "            ))\n",
    "    text1 = widgets.Text(\n",
    "       value='',\n",
    "       description='degree', )\n",
    "    text2 = widgets.Text(\n",
    "       value='',\n",
    "       description='coeffiecient', )\n",
    "    button = widgets.Button(description='Check Answer')\n",
    "    out = widgets.Output()\n",
    "    button.on_click(on_button_clicked)\n",
    "    return widgets.VBox([question, text1, text2, button, out])\n",
    "\n",
    "LoL = [a, b, c, x, y, z] \n",
    "\n",
    "def userChoice():\n",
    "    x = input(\"1 for type 1, 2 for type 2, and 3 for random: \" )\n",
    "    if x == \"1\":\n",
    "        return makeQuestion(LoL, True)\n",
    "    else: \n",
    "        if x == \"2\":\n",
    "            return makeQuestion(LoL, False)\n",
    "        else: \n",
    "            if x == \"3\":\n",
    "                return makeQuestion(LoL, True if randint(1,2) == 1 else False)\n",
    "            else:\n",
    "                print(\"Run again\")\n",
    "        \n",
    "userChoice()"
   ]
  },
  {
   "cell_type": "code",
   "execution_count": null,
   "metadata": {},
   "outputs": [],
   "source": []
  },
  {
   "cell_type": "code",
   "execution_count": null,
   "metadata": {},
   "outputs": [],
   "source": []
  }
 ],
 "metadata": {
  "kernelspec": {
   "display_name": "Python 3",
   "language": "python",
   "name": "python3"
  },
  "language_info": {
   "codemirror_mode": {
    "name": "ipython",
    "version": 3
   },
   "file_extension": ".py",
   "mimetype": "text/x-python",
   "name": "python",
   "nbconvert_exporter": "python",
   "pygments_lexer": "ipython3",
   "version": "3.7.6"
  }
 },
 "nbformat": 4,
 "nbformat_minor": 4
}
